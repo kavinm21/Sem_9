{
  "nbformat": 4,
  "nbformat_minor": 0,
  "metadata": {
    "colab": {
      "provenance": [],
      "authorship_tag": "ABX9TyOna5vXQzFhDvsFfniP4lFK",
      "include_colab_link": true
    },
    "kernelspec": {
      "name": "python3",
      "display_name": "Python 3"
    },
    "language_info": {
      "name": "python"
    }
  },
  "cells": [
    {
      "cell_type": "markdown",
      "metadata": {
        "id": "view-in-github",
        "colab_type": "text"
      },
      "source": [
        "<a href=\"https://colab.research.google.com/github/kavinm21/Sem_9/blob/main/DPS/19PD18_DPS_PS1.ipynb\" target=\"_parent\"><img src=\"https://colab.research.google.com/assets/colab-badge.svg\" alt=\"Open In Colab\"/></a>"
      ]
    },
    {
      "cell_type": "code",
      "execution_count": 1,
      "metadata": {
        "id": "WcnHZJ8xCg9o"
      },
      "outputs": [],
      "source": [
        "import string\n",
        "from sympy import mod_inverse\n",
        "import math\n",
        "import numpy as np"
      ]
    },
    {
      "cell_type": "code",
      "source": [
        "def additive_cipher(text, mode, key):\n",
        "    pop = string.ascii_letters\n",
        "    additiveKey = {}\n",
        "    cipher_message = \"\"\n",
        "    for i in range(26):\n",
        "        j = (i + key) % 26\n",
        "        additiveKey[pop[i]] = pop[j]\n",
        "        additiveKey[pop[i + 26]] = pop[j + 26]\n",
        "    additiveKey[' '] = ' '\n",
        "    if mode == 'encrypt':\n",
        "        for char in text:\n",
        "            cipher_message += additiveKey[char]\n",
        "    elif mode == 'decrypt':\n",
        "        for x in text:\n",
        "            y = list(additiveKey.keys())[list(additiveKey.values()).index(x)]\n",
        "            cipher_message += y\n",
        "    return cipher_message"
      ],
      "metadata": {
        "id": "QbRTIWdWGCWN"
      },
      "execution_count": 2,
      "outputs": []
    },
    {
      "cell_type": "code",
      "source": [
        "strz = \"hElLo tHeRe\"\n",
        "print(strz)\n",
        "zrts = additive_cipher(strz, \"encrypt\", 20)\n",
        "print(zrts)\n",
        "strz1 = additive_cipher(zrts, \"decrypt\", 20)\n",
        "print(strz1)"
      ],
      "metadata": {
        "colab": {
          "base_uri": "https://localhost:8080/"
        },
        "id": "nKHkdPHEJAOO",
        "outputId": "9f12ece4-cf89-484a-c170-21a38354485e"
      },
      "execution_count": 3,
      "outputs": [
        {
          "output_type": "stream",
          "name": "stdout",
          "text": [
            "hElLo tHeRe\n",
            "bYfFi nByLy\n",
            "hElLo tHeRe\n"
          ]
        }
      ]
    },
    {
      "cell_type": "code",
      "source": [
        "def multiplicative_cypher(text,mode,key):\n",
        "    char_dict={}\n",
        "    cipher_message = ''\n",
        "    for i in range(26):\n",
        "         char_dict[chr(ord('a') + i)]=i\n",
        "    key_list=list(char_dict.keys())\n",
        "    inv_char_dict = dict(zip(char_dict.values(),char_dict.keys()))\n",
        "\n",
        "    if mode == 'encrypt':\n",
        "        if math.gcd( 26,key) == 1:\n",
        "            for char in text:\n",
        "                if char in key_list:\n",
        "                    new_index=(char_dict[char]*key)%26\n",
        "                    cipher_message=cipher_message+inv_char_dict[new_index]\n",
        "                else:\n",
        "                    cipher_message=cipher_message+char\n",
        "        else:\n",
        "            print('invalid key selected')\n",
        "\n",
        "        return cipher_message\n",
        "\n",
        "    if mode == 'decrypt':\n",
        "        mult_inv=mod_inverse(key, 26)\n",
        "        for char in text:\n",
        "            if char in key_list:\n",
        "                new_index=(char_dict[char]*mult_inv)%26\n",
        "                cipher_message=cipher_message+inv_char_dict[new_index]\n",
        "            else:\n",
        "                cipher_message=cipher_message+char\n",
        "\n",
        "    return cipher_message"
      ],
      "metadata": {
        "id": "WosX8dlRFMkf"
      },
      "execution_count": 4,
      "outputs": []
    },
    {
      "cell_type": "code",
      "source": [
        "strz = \"hElLo tHeRe\"\n",
        "print(strz)\n",
        "zrts = multiplicative_cypher(strz, \"encrypt\", 19)\n",
        "print(zrts)\n",
        "strz1 = multiplicative_cypher(zrts, \"decrypt\", 19)\n",
        "print(strz1)"
      ],
      "metadata": {
        "colab": {
          "base_uri": "https://localhost:8080/"
        },
        "id": "Q7tSslILFWE3",
        "outputId": "28843fc6-6546-4632-db71-08bd17a2d797"
      },
      "execution_count": 5,
      "outputs": [
        {
          "output_type": "stream",
          "name": "stdout",
          "text": [
            "hElLo tHeRe\n",
            "dEbLg xHyRy\n",
            "hElLo tHeRe\n"
          ]
        }
      ]
    },
    {
      "cell_type": "code",
      "source": [
        "def affine_cipher(text, mode, key):\n",
        "    pop = string.ascii_letters\n",
        "    n = len(pop)\n",
        "    cipher_message = ''\n",
        "    if mode == 'encrypt':\n",
        "        for x in text:\n",
        "            if x in pop:\n",
        "                i = pop.index(x)\n",
        "                j = (key[0] * i + key[1]) % n\n",
        "                cipher_message += pop[j]\n",
        "            else:\n",
        "                cipher_message += x\n",
        "    elif mode == 'decrypt':\n",
        "        mult_inv=mod_inverse(key[0], n)\n",
        "        for char in text:\n",
        "            if char in pop:\n",
        "                i = pop.index(char)\n",
        "                j = mult_inv * (i - key[1]) % n\n",
        "                cipher_message=cipher_message + pop[j]\n",
        "            else:\n",
        "                cipher_message=cipher_message+char\n",
        "    return cipher_message"
      ],
      "metadata": {
        "id": "XGNN5JXZHyBx"
      },
      "execution_count": 6,
      "outputs": []
    },
    {
      "cell_type": "code",
      "source": [
        "op1 = affine_cipher(strz, \"encrypt\", [17, 20])\n",
        "op2 = affine_cipher(op1, \"decrypt\", [17, 20])\n",
        "print(strz)\n",
        "print(op1)\n",
        "print(op2)"
      ],
      "metadata": {
        "colab": {
          "base_uri": "https://localhost:8080/"
        },
        "id": "CqPpcDwdMFGx",
        "outputId": "b4f9fec8-d82c-4c4e-a712-2c3b795f9bb9"
      },
      "execution_count": 7,
      "outputs": [
        {
          "output_type": "stream",
          "name": "stdout",
          "text": [
            "hElLo tHeRe\n",
            "JkZzY FjKxK\n",
            "hElLo tHeRe\n"
          ]
        }
      ]
    },
    {
      "cell_type": "code",
      "source": [
        "c_text = \"NCJAEZRCLASJLYODEPRLYZRCLASJLCPEHZDTOPDZQLNZTY\"\n",
        "for x in range(5):\n",
        "    p_txt = additive_cipher(c_text, \"decrypt\", 13 + x)\n",
        "    print(13 + x, p_txt, sep='\\t')\n",
        "    p_txt = additive_cipher(c_text, \"decrypt\", 13 - x)\n",
        "    print(13 - x, p_txt, sep='\\t')\n",
        "p_txt = additive_cipher(c_text, \"decrypt\", 11)\n",
        "print(p_txt)"
      ],
      "metadata": {
        "id": "a96v6TsoWmC6",
        "colab": {
          "base_uri": "https://localhost:8080/"
        },
        "outputId": "4b72ca47-1f44-4937-b14f-4688784100a4"
      },
      "execution_count": 8,
      "outputs": [
        {
          "output_type": "stream",
          "name": "stdout",
          "text": [
            "13\tAPWNRMEPYNFWYLBQRCEYLMEPYNFWYPCRUMQGBCQMDYAMGL\n",
            "13\tAPWNRMEPYNFWYLBQRCEYLMEPYNFWYPCRUMQGBCQMDYAMGL\n",
            "14\tZOVMQLDOXMEVXKAPQBDXKLDOXMEVXOBQTLPFABPLCXZLFK\n",
            "12\tBQXOSNFQZOGXZMCRSDFZMNFQZOGXZQDSVNRHCDRNEZBNHM\n",
            "15\tYNULPKCNWLDUWJZOPACWJKCNWLDUWNAPSKOEZAOKBWYKEJ\n",
            "11\tCRYPTOGRAPHYANDSTEGANOGRAPHYARETWOSIDESOFACOIN\n",
            "16\tXMTKOJBMVKCTVIYNOZBVIJBMVKCTVMZORJNDYZNJAVXJDI\n",
            "10\tDSZQUPHSBQIZBOETUFHBOPHSBQIZBSFUXPTJEFTPGBDPJO\n",
            "17\tWLSJNIALUJBSUHXMNYAUHIALUJBSULYNQIMCXYMIZUWICH\n",
            "9\tETARVQITCRJACPFUVGICPQITCRJACTGVYQUKFGUQHCEQKP\n",
            "CRYPTOGRAPHYANDSTEGANOGRAPHYARETWOSIDESOFACOIN\n"
          ]
        }
      ]
    },
    {
      "cell_type": "code",
      "source": [
        "def vigenere_cipher(string, mode, key):\n",
        "    key = list(key)\n",
        "    if len(string) == len(key):\n",
        "        return  (key)\n",
        "    else:\n",
        "        for i in range(len(string) -len(key)):\n",
        "            key.append(key[i % len(key)])\n",
        "    key = \"\".join(key)\n",
        "    if mode == \"encrypt\":\n",
        "        cipher_text = []\n",
        "        for i in range(len(string)):\n",
        "            x = (ord(string[i]) +\n",
        "                 ord(key[i])) % 26\n",
        "            x += ord('A')\n",
        "            cipher_text.append(chr(x))\n",
        "        return  \"\".join(cipher_text)\n",
        "    elif mode == 'decrypt':\n",
        "        orig_text = []\n",
        "        for i in range(len(string)):\n",
        "            x = (ord(string[i]) -\n",
        "                 ord(key[i]) + 26) % 26\n",
        "            x += ord('A')\n",
        "            orig_text.append(chr(x))\n",
        "        return  \"\".join(orig_text)"
      ],
      "metadata": {
        "id": "pQlgGMNRE1_U"
      },
      "execution_count": 9,
      "outputs": []
    },
    {
      "cell_type": "code",
      "source": [
        "strz = \"HELLOTHERE\"\n",
        "op1 = vigenere_cipher(strz, \"encrypt\", \"JMP\")\n",
        "op2 = vigenere_cipher(op1, \"decrypt\", \"JMP\")\n",
        "print(strz)\n",
        "print(op1)\n",
        "print(op2)"
      ],
      "metadata": {
        "colab": {
          "base_uri": "https://localhost:8080/"
        },
        "id": "uTibm-IkFXC6",
        "outputId": "652263ac-0b01-4cdb-e986-319e8a2bbc7c"
      },
      "execution_count": 10,
      "outputs": [
        {
          "output_type": "stream",
          "name": "stdout",
          "text": [
            "HELLOTHERE\n",
            "QQAUAIQQGN\n",
            "HELLOTHERE\n"
          ]
        }
      ]
    },
    {
      "cell_type": "code",
      "source": [
        "ciphertxt = '''MPYIGOBSRMIDBSYRDIKATXAILFDFKXTPPSNTTNIGTHDELTTXAIREIHSVOBSMLUCFIOEPZIWACRFXICUVXVTOPXDLWPENDHPTSIDDBXWWTZPHNSOCLOUMSNRCCVUUXZHHNWSVXAUHIKLXTIMOICHTYPBHMHXGXHOLWPEWWWWDALOCTSQZELT'''"
      ],
      "metadata": {
        "id": "pzDNrgKMHnoB"
      },
      "execution_count": 11,
      "outputs": []
    },
    {
      "cell_type": "code",
      "source": [
        "def sing_freq_attack(str, m):\n",
        "    freq = {i: str.count(i) for i in set(str)}\n",
        "    top5 = list(dict(sorted(freq.items(), key=lambda x:x[1]), reverse=True).keys())[:m]\n",
        "    vals = [ord(str[i]) - ord(top5[i]) for i in range(m)]\n",
        "    strs = [\"\"] * m\n",
        "    for i in range(len(strs)):\n",
        "        for a in str:\n",
        "            strs[i] += chr((ord(a) - ord('A') + vals[i]) % 26 + ord('A'))\n",
        "        print(strs[i])"
      ],
      "metadata": {
        "id": "FrLKEMNtMkgz"
      },
      "execution_count": 12,
      "outputs": []
    },
    {
      "cell_type": "code",
      "source": [
        "sing_freq_attack(ciphertxt, 5)\n",
        "sing_freq_attack(\"B TJNQMF NFTTBHF\", 5)"
      ],
      "metadata": {
        "colab": {
          "base_uri": "https://localhost:8080/"
        },
        "id": "GZ9RaY_bPoUJ",
        "outputId": "49db10be-e15d-4090-8ac2-74089c2f2c83"
      },
      "execution_count": 13,
      "outputs": [
        {
          "output_type": "stream",
          "name": "stdout",
          "text": [
            "ILUECKXONIEZXOUNZEGWPTWEHBZBGTPLLOJPPJECPDZAHPPTWENAEDORKXOIHQYBEKALVESWYNBTEYQRTRPKLTZHSLAJZDLPOEZZXTSSPVLDJOKYHKQIOJNYYRQQTVDDJSORTWQDEGHTPEIKEYDPULXDIDTCTDKHSLASSSSZWHKYPOMVAHP\n",
            "VYHRPXKBAVRMKBHAMRTJCGJRUOMOTGCYYBWCCWRPCQMNUCCGJRANRQBEXKBVUDLORXNYIRFJLAOGRLDEGECXYGMUFYNWMQYCBRMMKGFFCIYQWBXLUXDVBWALLEDDGIQQWFBEGJDQRTUGCRVXRLQCHYKQVQGPGQXUFYNFFFFMJUXLCBZINUC\n",
            "ADMWUCPGFAWRPGMFRWYOHLOWZTRTYLHDDGBHHBWUHVRSZHHLOWFSWVGJCPGAZIQTWCSDNWKOQFTLWQIJLJHCDLRZKDSBRVDHGWRRPLKKHNDVBGCQZCIAGBFQQJIILNVVBKGJLOIVWYZLHWACWQVHMDPVAVLULVCZKDSKKKKROZCQHGENSZH\n",
            "WZISQYLCBWSNLCIBNSUKDHKSVPNPUHDZZCXDDXSQDRNOVDDHKSBOSRCFYLCWVEMPSYOZJSGKMBPHSMEFHFDYZHNVGZOXNRZDCSNNLHGGDJZRXCYMVYEWCXBMMFEEHJRRXGCFHKERSUVHDSWYSMRDIZLRWRHQHRYVGZOGGGGNKVYMDCAJOVD\n",
            "NQZJHPCTSNJECTZSEJLBUYBJMGEGLYUQQTOUUOJHUIEFMUUYBJSFJITWPCTNMVDGJPFQAJXBDSGYJDVWYWUPQYEMXQFOEIQUTJEECYXXUAQIOTPDMPVNTOSDDWVVYAIIOXTWYBVIJLMYUJNPJDIUZQCINIYHYIPMXQFXXXXEBMPDUTRAFMU\n",
            "TLLBFIEXLFXLLTZX\n",
            "EWWMQTPIWQIWWEKI\n",
            "NFFVZCYRFZRFFNTR\n",
            "YQQGKNJCQKCQQYEC\n",
            "NFFVZCYRFZRFFNTR\n"
          ]
        }
      ]
    },
    {
      "cell_type": "code",
      "source": [
        "def printString(S, M):\n",
        "    N = len(S)\n",
        "    plaintext = [None] * 5\n",
        "    freq = [0] * 26\n",
        "    freqSorted = [None] * 26\n",
        "    used = [0] * 26\n",
        "    for i in range(N):\n",
        "        if S[i] != ' ':\n",
        "            freq[ord(S[i]) - 65] += 1\n",
        "    for i in range(26):\n",
        "        freqSorted[i] = freq[i]\n",
        "    T = \"ETAOINSHRDLCUMWFGYPBVKJXQZ\"\n",
        "    freqSorted.sort(reverse = True)\n",
        "    for i in range(M):\n",
        "        ch = -1\n",
        "        for j in range(26):\n",
        "            if freqSorted[i] == freq[j] and used[j] == 0:\n",
        "                used[j] = 1\n",
        "                ch = j\n",
        "                break\n",
        "        if ch == -1:\n",
        "            break\n",
        "        x = ord(T[i]) - 65 - ch\n",
        "        curr = \"\"\n",
        "        for k in range(N):\n",
        "            if S[k] == ' ':\n",
        "                curr += \" \"\n",
        "                continue\n",
        "            y = ord(S[k]) - 65\n",
        "            y += x\n",
        "            if y < 0:\n",
        "                y += 26\n",
        "            if y > 25:\n",
        "                y -= 26\n",
        "            curr += chr(y + 65)\n",
        "        plaintext[i] = curr\n",
        "    for i in range(M):\n",
        "        print(plaintext[i])"
      ],
      "metadata": {
        "id": "mKCvImFsR9UV"
      },
      "execution_count": 14,
      "outputs": []
    },
    {
      "cell_type": "code",
      "source": [
        "printString(ciphertxt, 5)\n",
        "printString(\"B TJNQMF NFTTBHF\", 5)"
      ],
      "metadata": {
        "colab": {
          "base_uri": "https://localhost:8080/"
        },
        "id": "hyYR7w9zSlkB",
        "outputId": "bc81de3f-3185-4a91-dcb7-cde5f04c57d3"
      },
      "execution_count": 15,
      "outputs": [
        {
          "output_type": "stream",
          "name": "stdout",
          "text": [
            "ILUECKXONIEZXOUNZEGWPTWEHBZBGTPLLOJPPJECPDZAHPPTWENAEDORKXOIHQYBEKALVESWYNBTEYQRTRPKLTZHSLAJZDLPOEZZXTSSPVLDJOKYHKQIOJNYYRQQTVDDJSORTWQDEGHTPEIKEYDPULXDIDTCTDKHSLASSSSZWHKYPOMVAHP\n",
            "MPYIGOBSRMIDBSYRDIKATXAILFDFKXTPPSNTTNIGTHDELTTXAIREIHSVOBSMLUCFIOEPZIWACRFXICUVXVTOPXDLWPENDHPTSIDDBXWWTZPHNSOCLOUMSNRCCVUUXZHHNWSVXAUHIKLXTIMOICHTYPBHMHXGXHOLWPEWWWWDALOCTSQZELT\n",
            "PSBLJREVUPLGEVBUGLNDWADLOIGINAWSSVQWWQLJWKGHOWWADLUHLKVYREVPOXFILRHSCLZDFUIALFXYAYWRSAGOZSHQGKSWVLGGEAZZWCSKQVRFORXPVQUFFYXXACKKQZVYADXKLNOAWLPRLFKWBSEKPKAJAKROZSHZZZZGDORFWVTCHOW\n",
            "TWFPNVIZYTPKIZFYKPRHAEHPSMKMREAWWZUAAUPNAOKLSAAEHPYLPOZCVIZTSBJMPVLWGPDHJYMEPJBCECAVWEKSDWLUKOWAZPKKIEDDAGWOUZVJSVBTZUYJJCBBEGOOUDZCEHBOPRSEAPTVPJOAFWIOTOENEOVSDWLDDDDKHSVJAZXGLSA\n",
            "FIRBZHULKFBWULRKWBDTMQTBEYWYDQMIILGMMGBZMAWXEMMQTBKXBALOHULFENVYBHXISBPTVKYQBVNOQOMHIQWEPIXGWAIMLBWWUQPPMSIAGLHVEHNFLGKVVONNQSAAGPLOQTNABDEQMBFHBVAMRIUAFAQZQAHEPIXPPPPWTEHVMLJSXEM\n",
            "A SIMPLE MESSAGE\n",
            "B TJNQMF NFTTBHF\n",
            "A SIMPLE MESSAGE\n",
            "C UKORNG OGUUCIG\n",
            "C UKORNG OGUUCIG\n"
          ]
        }
      ]
    },
    {
      "cell_type": "code",
      "source": [
        "def transposition_cipher(txt, mode, key):\n",
        "    K = len(key)\n",
        "    P = len(txt)\n",
        "    row = int(math.ceil(P / K))\n",
        "    matrix = [ ['X'] * K for i in range(row)]\n",
        "    t = 0\n",
        "    if mode == 'encrypt':\n",
        "        for r in range(row):\n",
        "            for c,ch in enumerate(txt[t:t+K]):\n",
        "                matrix[r][c] = ch\n",
        "            t += K\n",
        "        sort_order = sorted([(ch, i) for i,ch in enumerate(key)])\n",
        "        cipher_txt = ''\n",
        "        for ch,c in sort_order:\n",
        "            for r in range(row):\n",
        "                cipher_txt += matrix[r][c]\n",
        "        return cipher_txt\n",
        "    elif mode == 'decrypt':\n",
        "        cipher_txt = txt\n",
        "        key_order = [key.index(ch) for ch in sorted(list(key))]\n",
        "        for c in key_order:\n",
        "            for r,ch in enumerate(cipher_txt[t:t+row]):\n",
        "                matrix[r][c] = ch\n",
        "            t += row\n",
        "        p_txt = ''\n",
        "        for r in range(row):\n",
        "            for c in range(K):\n",
        "                p_txt += matrix[r][c] if matrix[r][c] != 'X' else ''\n",
        "        return p_txt\n",
        "    else:\n",
        "        return \"ERROR\""
      ],
      "metadata": {
        "id": "PHOSsutQKs6J"
      },
      "execution_count": 17,
      "outputs": []
    },
    {
      "cell_type": "code",
      "source": [
        "p_txt = 'enemyattackstonight '\n",
        "key = 'head'\n",
        "print(p_txt)\n",
        "c_txt = transposition_cipher(p_txt, \"encrypt\", key)\n",
        "print(c_txt)\n",
        "print(transposition_cipher(c_txt, \"decrypt\", key))"
      ],
      "metadata": {
        "colab": {
          "base_uri": "https://localhost:8080/"
        },
        "id": "Fwiy2eIWN2W_",
        "outputId": "68503bb9-8cc8-43af-be5a-ff2530134c9c"
      },
      "execution_count": 30,
      "outputs": [
        {
          "output_type": "stream",
          "name": "stdout",
          "text": [
            "enemyattackstonight \n",
            "etkntmtsi nacoheyatg\n",
            "enemyattackstonight \n"
          ]
        }
      ]
    },
    {
      "cell_type": "code",
      "source": [
        "p_txt = 'enemyattackstonight '\n",
        "key = 'head'\n",
        "key1 = 'fade'\n",
        "print(p_txt)\n",
        "c1_txt = transposition_cipher(p_txt, \"encrypt\", key)\n",
        "c2_txt = transposition_cipher(c1_txt, \"encrypt\", key1)\n",
        "p1_txt = transposition_cipher(c2_txt, \"decrypt\", key1)\n",
        "p2_txt = transposition_cipher(p1_txt, \"decrypt\", key)\n",
        "print(c1_txt)\n",
        "print(c2_txt)\n",
        "print(p1_txt)\n",
        "print(p2_txt)"
      ],
      "metadata": {
        "colab": {
          "base_uri": "https://localhost:8080/"
        },
        "id": "gfOGMOL0OT-_",
        "outputId": "0c18debc-bddc-44be-9be6-16dc99e71f9a"
      },
      "execution_count": 31,
      "outputs": [
        {
          "output_type": "stream",
          "name": "stdout",
          "text": [
            "enemyattackstonight \n",
            "etkntmtsi nacoheyatg\n",
            "tm oaktnhtnsaegeticy\n",
            "etkntmtsi nacoheyatg\n",
            "enemyattackstonight \n"
          ]
        }
      ]
    },
    {
      "cell_type": "code",
      "source": [
        "len(p_txt)"
      ],
      "metadata": {
        "colab": {
          "base_uri": "https://localhost:8080/"
        },
        "id": "gMHPO1LLPUbX",
        "outputId": "0aad46df-701a-44c3-c9bb-1dbdf13d1a97"
      },
      "execution_count": 32,
      "outputs": [
        {
          "output_type": "execute_result",
          "data": {
            "text/plain": [
              "20"
            ]
          },
          "metadata": {},
          "execution_count": 32
        }
      ]
    }
  ]
}